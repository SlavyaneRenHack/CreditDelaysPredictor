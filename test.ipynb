{
 "cells": [
  {
   "cell_type": "code",
   "execution_count": 2,
   "id": "d69f1cab-1444-45ec-a480-3af3572036f2",
   "metadata": {},
   "outputs": [],
   "source": [
    "import pandas as pd"
   ]
  },
  {
   "cell_type": "code",
   "execution_count": 3,
   "id": "b2c55ed9-479c-40aa-a197-2f3c088a5629",
   "metadata": {},
   "outputs": [],
   "source": [
    "user_data = {\n",
    "\t\"client_id\": 24068,\n",
    "\t\"age\": 32,\n",
    "\t\"region\": \"Москва\",\n",
    "\t\"gender\": 2,\n",
    "\t\"job\": None,\n",
    "\t\"organization\": \"ЦИРК\",\n",
    "\t\"income\": 40000,\n",
    "\t\"marital_status\": \"Женат / замужем\",\n",
    "\t\"ip_flag\": False,\n",
    "\t\"sme_flag\": False,\n",
    "\t\"employee_flag\": False,\n",
    "\t\"refugee_flag\": False,\n",
    "\t\"pdn\": 0.5,\n",
    "}"
   ]
  },
  {
   "cell_type": "code",
   "execution_count": 5,
   "id": "e9c1ffd5-396d-4ac6-a9b7-ee790b47769f",
   "metadata": {},
   "outputs": [
    {
     "data": {
      "text/html": [
       "<div>\n",
       "<style scoped>\n",
       "    .dataframe tbody tr th:only-of-type {\n",
       "        vertical-align: middle;\n",
       "    }\n",
       "\n",
       "    .dataframe tbody tr th {\n",
       "        vertical-align: top;\n",
       "    }\n",
       "\n",
       "    .dataframe thead th {\n",
       "        text-align: right;\n",
       "    }\n",
       "</style>\n",
       "<table border=\"1\" class=\"dataframe\">\n",
       "  <thead>\n",
       "    <tr style=\"text-align: right;\">\n",
       "      <th></th>\n",
       "      <th>client_id</th>\n",
       "      <th>age</th>\n",
       "      <th>region</th>\n",
       "      <th>gender</th>\n",
       "      <th>job</th>\n",
       "      <th>organization</th>\n",
       "      <th>income</th>\n",
       "      <th>marital_status</th>\n",
       "      <th>ip_flag</th>\n",
       "      <th>sme_flag</th>\n",
       "      <th>employee_flag</th>\n",
       "      <th>refugee_flag</th>\n",
       "      <th>pdn</th>\n",
       "    </tr>\n",
       "  </thead>\n",
       "  <tbody>\n",
       "    <tr>\n",
       "      <th>0</th>\n",
       "      <td>24068</td>\n",
       "      <td>32</td>\n",
       "      <td>Москва</td>\n",
       "      <td>2</td>\n",
       "      <td>None</td>\n",
       "      <td>ЦИРК</td>\n",
       "      <td>40000</td>\n",
       "      <td>Женат / замужем</td>\n",
       "      <td>False</td>\n",
       "      <td>False</td>\n",
       "      <td>False</td>\n",
       "      <td>False</td>\n",
       "      <td>0.5</td>\n",
       "    </tr>\n",
       "  </tbody>\n",
       "</table>\n",
       "</div>"
      ],
      "text/plain": [
       "   client_id  age  region  gender   job organization  income   marital_status  \\\n",
       "0      24068   32  Москва       2  None         ЦИРК   40000  Женат / замужем   \n",
       "\n",
       "   ip_flag  sme_flag  employee_flag  refugee_flag  pdn  \n",
       "0    False     False          False         False  0.5  "
      ]
     },
     "execution_count": 5,
     "metadata": {},
     "output_type": "execute_result"
    }
   ],
   "source": [
    "pd.DataFrame([user_data])"
   ]
  },
  {
   "cell_type": "code",
   "execution_count": null,
   "id": "4c09fa5f-005b-44fa-89db-77c3b31494b6",
   "metadata": {},
   "outputs": [],
   "source": []
  }
 ],
 "metadata": {
  "kernelspec": {
   "display_name": "Python 3 (ipykernel)",
   "language": "python",
   "name": "python3"
  },
  "language_info": {
   "codemirror_mode": {
    "name": "ipython",
    "version": 3
   },
   "file_extension": ".py",
   "mimetype": "text/x-python",
   "name": "python",
   "nbconvert_exporter": "python",
   "pygments_lexer": "ipython3",
   "version": "3.11.7"
  }
 },
 "nbformat": 4,
 "nbformat_minor": 5
}
